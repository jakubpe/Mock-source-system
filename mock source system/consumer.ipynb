{
 "cells": [
  {
   "cell_type": "code",
   "execution_count": 2,
   "id": "fd893282-f58e-4974-afdd-0485bf93a6a4",
   "metadata": {},
   "outputs": [
    {
     "name": "stdout",
     "output_type": "stream",
     "text": [
      "Collecting pulsar-client==3.1.0\n",
      "  Downloading pulsar_client-3.1.0-cp311-cp311-manylinux_2_17_x86_64.manylinux2014_x86_64.whl (5.2 MB)\n",
      "\u001b[2K     \u001b[90m━━━━━━━━━━━━━━━━━━━━━━━━━━━━━━━━━━━━━━━━\u001b[0m \u001b[32m5.2/5.2 MB\u001b[0m \u001b[31m8.0 MB/s\u001b[0m eta \u001b[36m0:00:00\u001b[0m00:01\u001b[0m00:01\u001b[0m\n",
      "\u001b[?25hRequirement already satisfied: certifi in /opt/conda/lib/python3.11/site-packages (from pulsar-client==3.1.0) (2023.7.22)\n",
      "Installing collected packages: pulsar-client\n",
      "Successfully installed pulsar-client-3.1.0\n",
      "Note: you may need to restart the kernel to use updated packages.\n"
     ]
    }
   ],
   "source": [
    "pip install 'pulsar-client==3.1.0'"
   ]
  },
  {
   "cell_type": "markdown",
   "id": "075413fc-c2fa-4b6f-9102-94d695fa0633",
   "metadata": {},
   "source": [
    "Receiving data and converting it to dictionary"
   ]
  },
  {
   "cell_type": "code",
   "execution_count": 24,
   "id": "55b76371-7002-4320-85d9-8ed3cab71293",
   "metadata": {},
   "outputs": [],
   "source": [
    "import pulsar\n",
    "import json\n",
    "\n",
    "client = pulsar.Client('pulsar://172.17.0.2:6650')\n",
    "consumer = client.subscribe('my-topic', subscription_name='kernelsub')\n",
    "\n",
    "\n",
    "while True:\n",
    "    msg = consumer.receive()\n",
    "    try:\n",
    "        if msg.data():\n",
    "            data_dict = json.loads(msg.data().decode('utf-8'))\n",
    "        else:\n",
    "            print(\"Empty message\")\n",
    "    except json.JSONDecodeError as e:\n",
    "        print(f\"JSON parsing error {e}\")\n",
    "    \n",
    "    consumer.acknowledge(msg)\n",
    "    break\n",
    "client.close()"
   ]
  },
  {
   "cell_type": "markdown",
   "id": "d9f9c4b4-67ec-49c6-af0d-0f34a02fdcce",
   "metadata": {},
   "source": [
    "Converting data back to pandas dataframme and saving it"
   ]
  },
  {
   "cell_type": "code",
   "execution_count": 25,
   "id": "3dfabbb4-99fc-4538-9011-1516da5542a6",
   "metadata": {},
   "outputs": [
    {
     "name": "stdout",
     "output_type": "stream",
     "text": [
      "1500\n"
     ]
    }
   ],
   "source": [
    "import pandas as pd \n",
    "print(len(data_dict))\n",
    "df = pd.DataFrame(data_dict)\n",
    "df.to_csv('data_received.csv', index=False)"
   ]
  },
  {
   "cell_type": "code",
   "execution_count": 26,
   "id": "e73a0f6c-9658-428b-b638-8fe671d55e8b",
   "metadata": {},
   "outputs": [
    {
     "data": {
      "text/html": [
       "<div>\n",
       "<style scoped>\n",
       "    .dataframe tbody tr th:only-of-type {\n",
       "        vertical-align: middle;\n",
       "    }\n",
       "\n",
       "    .dataframe tbody tr th {\n",
       "        vertical-align: top;\n",
       "    }\n",
       "\n",
       "    .dataframe thead th {\n",
       "        text-align: right;\n",
       "    }\n",
       "</style>\n",
       "<table border=\"1\" class=\"dataframe\">\n",
       "  <thead>\n",
       "    <tr style=\"text-align: right;\">\n",
       "      <th></th>\n",
       "      <th>Name</th>\n",
       "      <th>Age</th>\n",
       "      <th>Email</th>\n",
       "      <th>Last_login</th>\n",
       "    </tr>\n",
       "  </thead>\n",
       "  <tbody>\n",
       "    <tr>\n",
       "      <th>0</th>\n",
       "      <td>Asia</td>\n",
       "      <td>57</td>\n",
       "      <td>Asia57@o2.pl</td>\n",
       "      <td>2018-05-04 18:48:28</td>\n",
       "    </tr>\n",
       "    <tr>\n",
       "      <th>1</th>\n",
       "      <td>Asia</td>\n",
       "      <td>64</td>\n",
       "      <td>Asia64@student.uw.edu.pl</td>\n",
       "      <td>2020-03-29 18:46:01</td>\n",
       "    </tr>\n",
       "    <tr>\n",
       "      <th>2</th>\n",
       "      <td>Adam</td>\n",
       "      <td>43</td>\n",
       "      <td>Adam43@o2.pl</td>\n",
       "      <td>2017-02-08 23:27:08</td>\n",
       "    </tr>\n",
       "    <tr>\n",
       "      <th>3</th>\n",
       "      <td>Adam</td>\n",
       "      <td>25</td>\n",
       "      <td>Adam25@student.uw.edu.pl</td>\n",
       "      <td>2015-03-17 17:50:33</td>\n",
       "    </tr>\n",
       "    <tr>\n",
       "      <th>4</th>\n",
       "      <td>Brad</td>\n",
       "      <td>48</td>\n",
       "      <td>Brad48@yahoo.com</td>\n",
       "      <td>2019-04-25 04:55:38</td>\n",
       "    </tr>\n",
       "    <tr>\n",
       "      <th>...</th>\n",
       "      <td>...</td>\n",
       "      <td>...</td>\n",
       "      <td>...</td>\n",
       "      <td>...</td>\n",
       "    </tr>\n",
       "    <tr>\n",
       "      <th>1495</th>\n",
       "      <td>Asia</td>\n",
       "      <td>48</td>\n",
       "      <td>Asia48@student.uw.edu.pl</td>\n",
       "      <td>2022-03-19 18:33:45</td>\n",
       "    </tr>\n",
       "    <tr>\n",
       "      <th>1496</th>\n",
       "      <td>Asia</td>\n",
       "      <td>51</td>\n",
       "      <td>Asia51@gmail.com</td>\n",
       "      <td>2018-09-28 10:49:15</td>\n",
       "    </tr>\n",
       "    <tr>\n",
       "      <th>1497</th>\n",
       "      <td>Adam</td>\n",
       "      <td>45</td>\n",
       "      <td>Adam45@o2.pl</td>\n",
       "      <td>2015-09-28 19:57:26</td>\n",
       "    </tr>\n",
       "    <tr>\n",
       "      <th>1498</th>\n",
       "      <td>Asia</td>\n",
       "      <td>19</td>\n",
       "      <td>Asia19@yahoo.com</td>\n",
       "      <td>2019-09-17 22:18:45</td>\n",
       "    </tr>\n",
       "    <tr>\n",
       "      <th>1499</th>\n",
       "      <td>Wojtek</td>\n",
       "      <td>56</td>\n",
       "      <td>Wojtek56@yahoo.com</td>\n",
       "      <td>2018-05-31 05:31:49</td>\n",
       "    </tr>\n",
       "  </tbody>\n",
       "</table>\n",
       "<p>1500 rows × 4 columns</p>\n",
       "</div>"
      ],
      "text/plain": [
       "        Name  Age                     Email           Last_login\n",
       "0       Asia   57              Asia57@o2.pl  2018-05-04 18:48:28\n",
       "1       Asia   64  Asia64@student.uw.edu.pl  2020-03-29 18:46:01\n",
       "2       Adam   43              Adam43@o2.pl  2017-02-08 23:27:08\n",
       "3       Adam   25  Adam25@student.uw.edu.pl  2015-03-17 17:50:33\n",
       "4       Brad   48          Brad48@yahoo.com  2019-04-25 04:55:38\n",
       "...      ...  ...                       ...                  ...\n",
       "1495    Asia   48  Asia48@student.uw.edu.pl  2022-03-19 18:33:45\n",
       "1496    Asia   51          Asia51@gmail.com  2018-09-28 10:49:15\n",
       "1497    Adam   45              Adam45@o2.pl  2015-09-28 19:57:26\n",
       "1498    Asia   19          Asia19@yahoo.com  2019-09-17 22:18:45\n",
       "1499  Wojtek   56        Wojtek56@yahoo.com  2018-05-31 05:31:49\n",
       "\n",
       "[1500 rows x 4 columns]"
      ]
     },
     "execution_count": 26,
     "metadata": {},
     "output_type": "execute_result"
    }
   ],
   "source": [
    "df"
   ]
  },
  {
   "cell_type": "code",
   "execution_count": null,
   "id": "0dbfa5f9-5776-4302-9a4e-64517e683810",
   "metadata": {},
   "outputs": [],
   "source": []
  }
 ],
 "metadata": {
  "kernelspec": {
   "display_name": "Python 3 (ipykernel)",
   "language": "python",
   "name": "python3"
  },
  "language_info": {
   "codemirror_mode": {
    "name": "ipython",
    "version": 3
   },
   "file_extension": ".py",
   "mimetype": "text/x-python",
   "name": "python",
   "nbconvert_exporter": "python",
   "pygments_lexer": "ipython3",
   "version": "3.11.6"
  }
 },
 "nbformat": 4,
 "nbformat_minor": 5
}
