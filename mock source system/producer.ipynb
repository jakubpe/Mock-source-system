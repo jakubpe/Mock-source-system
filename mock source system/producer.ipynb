{
 "cells": [
  {
   "cell_type": "markdown",
   "id": "abec31ca-3361-4b4a-abe9-ad035571f752",
   "metadata": {},
   "source": [
    "# importing data"
   ]
  },
  {
   "cell_type": "code",
   "execution_count": 18,
   "id": "87ca24c2-fac9-4f16-8bd2-f3c12819e0ef",
   "metadata": {},
   "outputs": [],
   "source": [
    "import pandas as pd\n",
    "read_data = pd.read_csv('data.csv')"
   ]
  },
  {
   "cell_type": "markdown",
   "id": "9ab7931b-8f48-4630-a9fe-57e9f8ad7f74",
   "metadata": {},
   "source": [
    "Converting data to json"
   ]
  },
  {
   "cell_type": "code",
   "execution_count": 19,
   "id": "70046d5d-8b0c-4087-ace9-46fa64c0b760",
   "metadata": {},
   "outputs": [
    {
     "name": "stdout",
     "output_type": "stream",
     "text": [
      "[{\"Name\":\"Brad\",\"Age\":66,\"Email\":\"Brad66@student.uw.edu.pl\",\"Last_login\":\"2016-10-20 19:09:22\"},{\"Name\":\"Wojtek\",\"Age\":79,\"Email\":\"Wojtek79@o2.pl\",\"Last_login\":\"2015-08-25 21:05:05\"},{\"Name\":\"Wojtek\",\"Age\":34,\"Email\":\"Wojtek34@o2.pl\",\"Last_login\":\"2016-01-15 18:41:09\"},{\"Name\":\"Wojtek\",\"Age\":44,\"Email\":\"Wojtek44@student.uw.edu.pl\",\"Last_login\":\"2018-05-07 20:35:10\"},{\"Name\":\"Anna\",\"Age\":47,\"Email\":\"Anna47@student.uw.edu.pl\",\"Last_login\":\"2019-09-22 13:03:18\"},{\"Name\":\"Wojtek\",\"Age\":75,\"Email\":\"Wojtek75@o2.pl\",\"Last_login\":\"2022-08-30 23:57:08\"},{\"Name\":\"Kuba\",\"Age\":30,\"Email\":\"Kuba30@o2.pl\",\"Last_login\":\"2020-12-16 10:13:51\"},{\"Name\":\"Asia\",\"Age\":71,\"Email\":\"Asia71@yahoo.com\",\"Last_login\":\"2015-12-03 00:26:20\"},{\"Name\":\"Brad\",\"Age\":80,\"Email\":\"Brad80@o2.pl\",\"Last_login\":\"2022-07-06 18:59:20\"},{\"Name\":\"Adam\",\"Age\":32,\"Email\":\"Adam32@gmail.com\",\"Last_login\":\"2020-09-22 21:40:39\"},{\"Name\":\"Kuba\",\"Age\":64,\"Email\":\"Kuba64@gmail.com\",\"Last_login\":\"2022-10-09 01:00:05\"},{\"Name\":\"Asia\",\"Age\":44,\"Email\":\"Asia44@o2.pl\",\"Last_login\":\"2021-10-21 20:52:53\"},{\"Name\":\"Brad\",\"Age\":74,\"Email\":\"Brad74@student.uw.edu.pl\",\"Last_login\":\"2019-05-30 18:57:53\"},{\"Name\":\"Anna\",\"Age\":62,\"Email\":\"Anna62@gmail.com\",\"Last_login\":\"2021-02-23 05:49:16\"},{\"Name\":\"Kuba\",\"Age\":68,\"Email\":\"Kuba68@gmail.com\",\"Last_login\":\"2017-01-24 04:06:55\"}]\n"
     ]
    }
   ],
   "source": [
    "data_as_json = read_data.to_json(orient='records')\n",
    "# print(data_as_json)"
   ]
  },
  {
   "cell_type": "markdown",
   "id": "11259590-89a8-422f-a9c4-0a73f4c99d18",
   "metadata": {},
   "source": [
    "Sending data "
   ]
  },
  {
   "cell_type": "code",
   "execution_count": 20,
   "id": "cb04d9de-84c1-4deb-8382-359443839fd7",
   "metadata": {},
   "outputs": [
    {
     "name": "stdout",
     "output_type": "stream",
     "text": [
      "sent\n"
     ]
    }
   ],
   "source": [
    "import pulsar\n",
    "\n",
    "client = pulsar.Client('pulsar://172.17.0.2:6650')\n",
    "\n",
    "producer = client.create_producer('my-topic')\n",
    "\n",
    "\n",
    "producer.send(data_as_json.encode('utf-8'))\n",
    "producer.send(text.encode('utf-8'))\n",
    "print('sent')\n",
    "\n",
    "# for i in range(10):\n",
    "#     producer.send(('hello-pulsar-%d' % i).encode('utf-8'))\n",
    "\n",
    "client.close()"
   ]
  },
  {
   "cell_type": "code",
   "execution_count": null,
   "id": "b00d6f91-3b89-4a36-8917-375276dae058",
   "metadata": {},
   "outputs": [],
   "source": []
  },
  {
   "cell_type": "code",
   "execution_count": null,
   "id": "9637287f-3faa-4cc0-8011-954479041296",
   "metadata": {},
   "outputs": [],
   "source": []
  }
 ],
 "metadata": {
  "kernelspec": {
   "display_name": "Python 3 (ipykernel)",
   "language": "python",
   "name": "python3"
  },
  "language_info": {
   "codemirror_mode": {
    "name": "ipython",
    "version": 3
   },
   "file_extension": ".py",
   "mimetype": "text/x-python",
   "name": "python",
   "nbconvert_exporter": "python",
   "pygments_lexer": "ipython3",
   "version": "3.11.6"
  }
 },
 "nbformat": 4,
 "nbformat_minor": 5
}
