{
 "cells": [
  {
   "cell_type": "markdown",
   "id": "45bb1764-63c8-49a3-b621-58c50f670b14",
   "metadata": {},
   "source": [
    "# Importing libraries"
   ]
  },
  {
   "cell_type": "code",
   "execution_count": 5,
   "id": "2f3b5b50-894e-4c56-9429-a982f628a61d",
   "metadata": {},
   "outputs": [],
   "source": [
    "import pandas as pd\n",
    "import numpy as np\n",
    "import random"
   ]
  },
  {
   "cell_type": "code",
   "execution_count": 10,
   "id": "8b2b6bf2-eb3b-4f40-a928-5ae1a5e02fa8",
   "metadata": {},
   "outputs": [],
   "source": [
    "data = pd.DataFrame()"
   ]
  },
  {
   "cell_type": "markdown",
   "id": "64cedc32-c5a4-40f8-bed9-6ca6a4a94449",
   "metadata": {},
   "source": [
    "Setting up some varaibles which will act as a seed for data"
   ]
  },
  {
   "cell_type": "code",
   "execution_count": 7,
   "id": "e7e9effb-fb68-4da5-b78b-b654892a9436",
   "metadata": {},
   "outputs": [],
   "source": [
    "name_list = ['Adam','Kuba','Wojtek','Asia','Anna','Brad']\n",
    "email_list = ['@gmail.com', '@yahoo.com', '@o2.pl', '@student.uw.edu.pl']"
   ]
  },
  {
   "cell_type": "markdown",
   "id": "60548a1e-5b39-487e-8caf-a962b8651489",
   "metadata": {},
   "source": [
    "Data created will have the column with last login data, \\\n",
    "The function will create random data in given data frame"
   ]
  },
  {
   "cell_type": "code",
   "execution_count": 11,
   "id": "5fb2db33-f4e6-4dbc-8d5b-7e6b8a594294",
   "metadata": {},
   "outputs": [],
   "source": [
    "from random import randrange\n",
    "from datetime import timedelta, datetime\n",
    "\n",
    "def random_date():\n",
    "    \"\"\"\n",
    "    This function will return a random datetime between two datetime \n",
    "    objects.\n",
    "    \"\"\"\n",
    "    d1 = datetime.strptime('1/1/2015 1:30 PM', '%m/%d/%Y %I:%M %p')\n",
    "    d2 = datetime.strptime('1/1/2023 4:50 AM', '%m/%d/%Y %I:%M %p')\n",
    "    \n",
    "    delta = d2 - d1\n",
    "    int_delta = (delta.days * 24 * 60 * 60) + delta.seconds\n",
    "    random_second = randrange(int_delta)\n",
    "    return d1 + timedelta(seconds=random_second)\n",
    "\n"
   ]
  },
  {
   "cell_type": "markdown",
   "id": "e9dd86d4-10f5-49b5-83c4-f5a4d5e50195",
   "metadata": {},
   "source": [
    "# Creating data"
   ]
  },
  {
   "cell_type": "code",
   "execution_count": 12,
   "id": "8abf8005-b323-4dbd-b78a-24129d637bea",
   "metadata": {},
   "outputs": [],
   "source": [
    "names = []\n",
    "ages = []\n",
    "emails = []\n",
    "login = []\n",
    "for _ in range(15000):\n",
    "    name = random.choice(name_list)\n",
    "    age = random.randint(10,99)\n",
    "    email = name + str(age) + random.choice(email_list)\n",
    " \n",
    "    names.append(name)\n",
    "    ages.append(age)\n",
    "    emails.append(email)\n",
    "    login.append(random_date())\n",
    "\n",
    "data['Name'] = names\n",
    "data['Age']  = ages\n",
    "data['Email'] = emails\n",
    "data['Last_login'] = login\n"
   ]
  },
  {
   "cell_type": "markdown",
   "id": "843ddb71-d8fd-467a-8b76-963c3c779436",
   "metadata": {},
   "source": [
    "saving data to csv file"
   ]
  },
  {
   "cell_type": "code",
   "execution_count": 14,
   "id": "ebb461c2-fa8a-4cc2-9775-8e54066301a5",
   "metadata": {},
   "outputs": [],
   "source": [
    "data.to_csv('data.csv', index=False)"
   ]
  },
  {
   "cell_type": "code",
   "execution_count": 13,
   "id": "74f863d4-0b4a-441f-a5bb-2c6ee1d750f9",
   "metadata": {},
   "outputs": [
    {
     "data": {
      "text/html": [
       "<div>\n",
       "<style scoped>\n",
       "    .dataframe tbody tr th:only-of-type {\n",
       "        vertical-align: middle;\n",
       "    }\n",
       "\n",
       "    .dataframe tbody tr th {\n",
       "        vertical-align: top;\n",
       "    }\n",
       "\n",
       "    .dataframe thead th {\n",
       "        text-align: right;\n",
       "    }\n",
       "</style>\n",
       "<table border=\"1\" class=\"dataframe\">\n",
       "  <thead>\n",
       "    <tr style=\"text-align: right;\">\n",
       "      <th></th>\n",
       "      <th>Name</th>\n",
       "      <th>Age</th>\n",
       "      <th>Email</th>\n",
       "      <th>Last_login</th>\n",
       "    </tr>\n",
       "  </thead>\n",
       "  <tbody>\n",
       "    <tr>\n",
       "      <th>0</th>\n",
       "      <td>Anna</td>\n",
       "      <td>89</td>\n",
       "      <td>Anna89@student.uw.edu.pl</td>\n",
       "      <td>2021-06-14 15:46:52</td>\n",
       "    </tr>\n",
       "    <tr>\n",
       "      <th>1</th>\n",
       "      <td>Asia</td>\n",
       "      <td>84</td>\n",
       "      <td>Asia84@gmail.com</td>\n",
       "      <td>2020-10-04 03:32:38</td>\n",
       "    </tr>\n",
       "    <tr>\n",
       "      <th>2</th>\n",
       "      <td>Wojtek</td>\n",
       "      <td>49</td>\n",
       "      <td>Wojtek49@o2.pl</td>\n",
       "      <td>2022-03-18 16:55:40</td>\n",
       "    </tr>\n",
       "    <tr>\n",
       "      <th>3</th>\n",
       "      <td>Brad</td>\n",
       "      <td>53</td>\n",
       "      <td>Brad53@o2.pl</td>\n",
       "      <td>2018-02-28 00:35:37</td>\n",
       "    </tr>\n",
       "    <tr>\n",
       "      <th>4</th>\n",
       "      <td>Anna</td>\n",
       "      <td>30</td>\n",
       "      <td>Anna30@yahoo.com</td>\n",
       "      <td>2017-04-12 17:30:18</td>\n",
       "    </tr>\n",
       "    <tr>\n",
       "      <th>...</th>\n",
       "      <td>...</td>\n",
       "      <td>...</td>\n",
       "      <td>...</td>\n",
       "      <td>...</td>\n",
       "    </tr>\n",
       "    <tr>\n",
       "      <th>14995</th>\n",
       "      <td>Adam</td>\n",
       "      <td>94</td>\n",
       "      <td>Adam94@yahoo.com</td>\n",
       "      <td>2015-09-18 17:55:45</td>\n",
       "    </tr>\n",
       "    <tr>\n",
       "      <th>14996</th>\n",
       "      <td>Wojtek</td>\n",
       "      <td>19</td>\n",
       "      <td>Wojtek19@yahoo.com</td>\n",
       "      <td>2021-01-06 12:06:52</td>\n",
       "    </tr>\n",
       "    <tr>\n",
       "      <th>14997</th>\n",
       "      <td>Anna</td>\n",
       "      <td>24</td>\n",
       "      <td>Anna24@yahoo.com</td>\n",
       "      <td>2021-02-19 21:22:41</td>\n",
       "    </tr>\n",
       "    <tr>\n",
       "      <th>14998</th>\n",
       "      <td>Brad</td>\n",
       "      <td>80</td>\n",
       "      <td>Brad80@student.uw.edu.pl</td>\n",
       "      <td>2020-02-04 02:36:40</td>\n",
       "    </tr>\n",
       "    <tr>\n",
       "      <th>14999</th>\n",
       "      <td>Wojtek</td>\n",
       "      <td>37</td>\n",
       "      <td>Wojtek37@student.uw.edu.pl</td>\n",
       "      <td>2016-05-26 00:52:14</td>\n",
       "    </tr>\n",
       "  </tbody>\n",
       "</table>\n",
       "<p>15000 rows × 4 columns</p>\n",
       "</div>"
      ],
      "text/plain": [
       "         Name  Age                       Email          Last_login\n",
       "0        Anna   89    Anna89@student.uw.edu.pl 2021-06-14 15:46:52\n",
       "1        Asia   84            Asia84@gmail.com 2020-10-04 03:32:38\n",
       "2      Wojtek   49              Wojtek49@o2.pl 2022-03-18 16:55:40\n",
       "3        Brad   53                Brad53@o2.pl 2018-02-28 00:35:37\n",
       "4        Anna   30            Anna30@yahoo.com 2017-04-12 17:30:18\n",
       "...       ...  ...                         ...                 ...\n",
       "14995    Adam   94            Adam94@yahoo.com 2015-09-18 17:55:45\n",
       "14996  Wojtek   19          Wojtek19@yahoo.com 2021-01-06 12:06:52\n",
       "14997    Anna   24            Anna24@yahoo.com 2021-02-19 21:22:41\n",
       "14998    Brad   80    Brad80@student.uw.edu.pl 2020-02-04 02:36:40\n",
       "14999  Wojtek   37  Wojtek37@student.uw.edu.pl 2016-05-26 00:52:14\n",
       "\n",
       "[15000 rows x 4 columns]"
      ]
     },
     "execution_count": 13,
     "metadata": {},
     "output_type": "execute_result"
    }
   ],
   "source": [
    "data"
   ]
  },
  {
   "cell_type": "code",
   "execution_count": null,
   "id": "862a7dd5-8d4b-4e21-af91-19beb166c58d",
   "metadata": {},
   "outputs": [],
   "source": []
  }
 ],
 "metadata": {
  "kernelspec": {
   "display_name": "Python 3 (ipykernel)",
   "language": "python",
   "name": "python3"
  },
  "language_info": {
   "codemirror_mode": {
    "name": "ipython",
    "version": 3
   },
   "file_extension": ".py",
   "mimetype": "text/x-python",
   "name": "python",
   "nbconvert_exporter": "python",
   "pygments_lexer": "ipython3",
   "version": "3.11.6"
  }
 },
 "nbformat": 4,
 "nbformat_minor": 5
}
