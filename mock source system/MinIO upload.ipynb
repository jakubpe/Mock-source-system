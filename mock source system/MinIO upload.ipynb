{
 "cells": [
  {
   "cell_type": "markdown",
   "id": "9910c10a-f2b1-42b1-829b-e57c53d59cb9",
   "metadata": {},
   "source": [
    "# Upload data to MinIO data storrage\n",
    "\n",
    "## install minio"
   ]
  },
  {
   "cell_type": "code",
   "execution_count": 1,
   "id": "bee50483-ba46-4617-93dd-2b35898a8b62",
   "metadata": {},
   "outputs": [
    {
     "name": "stdout",
     "output_type": "stream",
     "text": [
      "Collecting minio\n",
      "  Downloading minio-7.1.17-py3-none-any.whl.metadata (4.2 kB)\n",
      "Requirement already satisfied: certifi in /opt/conda/lib/python3.11/site-packages (from minio) (2023.7.22)\n",
      "Requirement already satisfied: urllib3 in /opt/conda/lib/python3.11/site-packages (from minio) (2.0.6)\n",
      "Downloading minio-7.1.17-py3-none-any.whl (78 kB)\n",
      "\u001b[2K   \u001b[90m━━━━━━━━━━━━━━━━━━━━━━━━━━━━━━━━━━━━━━━━\u001b[0m \u001b[32m78.3/78.3 kB\u001b[0m \u001b[31m2.1 MB/s\u001b[0m eta \u001b[36m0:00:00\u001b[0m\n",
      "\u001b[?25hInstalling collected packages: minio\n",
      "Successfully installed minio-7.1.17\n"
     ]
    }
   ],
   "source": [
    "!pip install minio"
   ]
  },
  {
   "cell_type": "code",
   "execution_count": null,
   "id": "f643c2f3-da87-4509-bd55-e7d501523301",
   "metadata": {},
   "outputs": [],
   "source": []
  },
  {
   "cell_type": "code",
   "execution_count": 1,
   "id": "78b63bde-69b5-4974-9d3f-c015e636ec7a",
   "metadata": {},
   "outputs": [],
   "source": [
    "from minio import Minio\n",
    "from minio.error import S3Error"
   ]
  },
  {
   "cell_type": "code",
   "execution_count": 3,
   "id": "c4287569-2183-496b-b666-c54ad314653c",
   "metadata": {},
   "outputs": [
    {
     "name": "stdout",
     "output_type": "stream",
     "text": [
      "random-data 2023-10-24 11:51:07.712000+00:00\n"
     ]
    }
   ],
   "source": [
    "# Initialize MinIO client\n",
    "\n",
    "client = Minio(\n",
    "    '172.17.0.4:9000',\n",
    "    access_key='PoEBJiLPjWNuwq1Hlkkn',\n",
    "    secret_key='1q51r8jufSf1UV3zphqV7wLnyO8JMDLefHfVWrsZ',\n",
    "    secure=False\n",
    "  )\n",
    "\n",
    "buckets = client.list_buckets()\n",
    "for bucket in buckets:\n",
    "    print(bucket.name, bucket.creation_date)\n",
    "  \n",
    "\n",
    "\n",
    "\n",
    "\n"
   ]
  },
  {
   "cell_type": "code",
   "execution_count": 34,
   "id": "d965d3a8-ce35-4e96-90c7-4f07a0d7801a",
   "metadata": {},
   "outputs": [
    {
     "name": "stdout",
     "output_type": "stream",
     "text": [
      "random-data 2023-10-24 11:51:07.712000+00:00\n"
     ]
    }
   ],
   "source": [
    "#the same as before but with different key\n",
    "client = Minio(\n",
    "    '172.17.0.3:9000',\n",
    "    access_key='xnWyuIy526a2cy4pl53I',\n",
    "    secret_key='dYamcE9Pmtdi6X8ehJatWF5CmKWQ5Jmh6hLE0jbP',\n",
    "    secure=False\n",
    "  )\n",
    "\n",
    "buckets = client.list_buckets()\n",
    "for bucket in buckets:\n",
    "    print(bucket.name, bucket.creation_date)\n",
    "  \n"
   ]
  },
  {
   "cell_type": "code",
   "execution_count": 33,
   "id": "bbc369a5-b8e9-4be9-92a2-20a8feb24060",
   "metadata": {},
   "outputs": [
    {
     "data": {
      "text/plain": [
       "<minio.helpers.ObjectWriteResult at 0x7f268d768090>"
      ]
     },
     "execution_count": 33,
     "metadata": {},
     "output_type": "execute_result"
    }
   ],
   "source": [
    "client.fput_object(\n",
    "    \"random-data\", \"data.csv\", \"data.csv\"\n",
    "  )"
   ]
  },
  {
   "cell_type": "code",
   "execution_count": null,
   "id": "cfcb327a-a54f-453b-8cb3-2606e629614c",
   "metadata": {},
   "outputs": [],
   "source": []
  }
 ],
 "metadata": {
  "kernelspec": {
   "display_name": "Python 3 (ipykernel)",
   "language": "python",
   "name": "python3"
  },
  "language_info": {
   "codemirror_mode": {
    "name": "ipython",
    "version": 3
   },
   "file_extension": ".py",
   "mimetype": "text/x-python",
   "name": "python",
   "nbconvert_exporter": "python",
   "pygments_lexer": "ipython3",
   "version": "3.11.6"
  }
 },
 "nbformat": 4,
 "nbformat_minor": 5
}
